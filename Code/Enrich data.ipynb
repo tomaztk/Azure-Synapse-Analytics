{
  "nbformat": 4,
  "nbformat_minor": 2,
  "cells": [
    {
      "cell_type": "markdown",
      "metadata": {},
      "source": [
        "# Using Azure Open Datasets in Synapse - Enrich NYC Green Taxi Data with Holiday and Weather\n",
        "\n",
        "Synapse has [Azure Open Datasets](https://azure.microsoft.com/en-us/services/open-datasets/) package pre-installed. This notebook provides examples of how to enrich NYC Green Taxi Data with Holiday and Weather with focusing on :\n",
        "- read Azure Open Dataset\n",
        "- manipulate the data to prepare for further analysis, including column projection, filtering, grouping and joins etc. \n",
        "- create a Spark table to be used in other notebooks for modeling training"
      ]
    },
    {
      "cell_type": "markdown",
      "metadata": {},
      "source": [
        "## Data loading \n",
        "Let's first load the [NYC green taxi trip records](https://azure.microsoft.com/en-us/services/open-datasets/catalog/nyc-taxi-limousine-commission-green-taxi-trip-records/). The Open Datasets package contains a class representing each data source (NycTlcGreen for example) to easily filter date parameters before downloading."
      ]
    },
    {
      "cell_type": "code",
      "execution_count": 1,
      "outputs": [],
      "metadata": {},
      "source": [
        "// Load nyc green taxi trip records from azure open dataset\n",
        "val blob_account_name = \"azureopendatastorage\"\n",
        "\n",
        "val nyc_blob_container_name = \"nyctlc\"\n",
        "val nyc_blob_relative_path = \"green\"\n",
        "val nyc_blob_sas_token = \"\"\n",
        "\n",
        "val nyc_wasbs_path = f\"wasbs://$nyc_blob_container_name@$blob_account_name.blob.core.windows.net/$nyc_blob_relative_path\"\n",
        "spark.conf.set(f\"fs.azure.sas.$nyc_blob_container_name.$blob_account_name.blob.core.windows.net\",nyc_blob_sas_token)\n",
        "\n",
        "val nyc_tlc = spark.read.parquet(nyc_wasbs_path)\n",
        "\n",
        "//nyc_tlc.show(5, truncate = false)"
      ]
    },
    {
      "cell_type": "code",
      "execution_count": 2,
      "outputs": [],
      "metadata": {},
      "source": [
        "// Filter data by time range\n",
        "import java.sql.Timestamp\n",
        "import org.joda.time.DateTime\n",
        "\n",
        "val end_date = new Timestamp(DateTime.parse(\"2018-06-06\").getMillis)\n",
        "val start_date = new Timestamp(DateTime.parse(\"2018-05-01\").getMillis)\n",
        "\n",
        "val nyc_tlc_df = nyc_tlc.filter((nyc_tlc(\"lpepPickupDatetime\") >= start_date) && (nyc_tlc(\"lpepPickupDatetime\") <= end_date)) \n",
        "nyc_tlc_df.show(5, truncate = false)"
      ]
    },
    {
      "cell_type": "markdown",
      "metadata": {},
      "source": [
        "Now that the initial data is loaded. Let's do some projection on the data to \n",
        "- create new columns for the month number, day of month, day of week, and hour of day. These info is going to be used in the training model to factor in time-based seasonality.\n",
        "- add a static feature for the country code to join holiday data. "
      ]
    },
    {
      "cell_type": "code",
      "execution_count": 3,
      "outputs": [],
      "metadata": {},
      "source": [
        "// Extract month, day of month, and day of week from pickup datetime and add a static column for the country code to join holiday data. \n",
        "import org.apache.spark.sql.functions._\n",
        "\n",
        "val nyc_tlc_df_expand = (\n",
        "                        nyc_tlc_df.withColumn(\"datetime\", to_date(col(\"lpepPickupDatetime\")))\n",
        "                                  .withColumn(\"month_num\",month(col(\"lpepPickupDatetime\")))\n",
        "                                  .withColumn(\"day_of_month\",dayofmonth(col(\"lpepPickupDatetime\")))\n",
        "                                  .withColumn(\"day_of_week\",dayofweek(col(\"lpepPickupDatetime\")))\n",
        "                                  .withColumn(\"hour_of_day\",hour(col(\"lpepPickupDatetime\")))\n",
        "                                  .withColumn(\"country_code\",lit(\"US\"))\n",
        "                        )"
      ]
    },
    {
      "cell_type": "code",
      "execution_count": 4,
      "outputs": [],
      "metadata": {},
      "source": [
        "// Display 5 rows\n",
        "// nyc_tlc_df_expand.show(5, truncate = false)"
      ]
    },
    {
      "cell_type": "markdown",
      "metadata": {},
      "source": [
        "Remove some of the columns that won't need for modeling or additional feature building.\n",
        "\n",
        "\n",
        ""
      ]
    },
    {
      "cell_type": "code",
      "execution_count": 5,
      "outputs": [],
      "metadata": {},
      "source": [
        "// Remove unused columns from nyc green taxi data\n",
        "val nyc_tlc_df_clean = nyc_tlc_df_expand.drop(\n",
        "                    \"lpepDropoffDatetime\", \"puLocationId\", \"doLocationId\", \"pickupLongitude\", \n",
        "                     \"pickupLatitude\", \"dropoffLongitude\",\"dropoffLatitude\" ,\"rateCodeID\", \n",
        "                     \"storeAndFwdFlag\",\"paymentType\", \"fareAmount\", \"extra\", \"mtaTax\",\n",
        "                     \"improvementSurcharge\", \"tollsAmount\", \"ehailFee\", \"tripType\" )"
      ]
    },
    {
      "cell_type": "code",
      "execution_count": 6,
      "outputs": [],
      "metadata": {},
      "source": [
        "// Display 5 rows\n",
        "nyc_tlc_df_clean.show(5, truncate = false)"
      ]
    },
    {
      "cell_type": "markdown",
      "metadata": {},
      "source": [
        "## Enrich with holiday data\n",
        "Now that we have taxi data downloaded and roughly prepared, add in holiday data as additional features. Holiday-specific features will assist model accuracy, as major holidays are times where taxi demand increases dramatically and supply becomes limited. \n",
        "\n",
        "Let's load the [public holidays](https://azure.microsoft.com/en-us/services/open-datasets/catalog/public-holidays/) from Azure Open datasets.\n",
        ""
      ]
    },
    {
      "cell_type": "code",
      "execution_count": 7,
      "outputs": [],
      "metadata": {},
      "source": [
        "// Load public holidays data from azure open dataset\n",
        "val hol_blob_container_name = \"holidaydatacontainer\"\n",
        "val hol_blob_relative_path = \"Processed\"\n",
        "val hol_blob_sas_token = \"\"\n",
        "\n",
        "val hol_wasbs_path = f\"wasbs://$hol_blob_container_name@$blob_account_name.blob.core.windows.net/$hol_blob_relative_path\"\n",
        "spark.conf.set(f\"fs.azure.sas.$hol_blob_container_name.$blob_account_name.blob.core.windows.net\",hol_blob_sas_token)\n",
        "\n",
        "val hol_raw = spark.read.parquet(hol_wasbs_path)\n",
        "\n",
        "// Filter data by time range\n",
        "val hol_df = hol_raw.filter((hol_raw(\"date\") >= start_date) && (hol_raw(\"date\") <= end_date))\n",
        "\n",
        "// Display 5 rows\n",
        "// hol_df.show(5, truncate = false)"
      ]
    },
    {
      "cell_type": "markdown",
      "metadata": {},
      "source": [
        "Rename the countryRegionCode and date columns to match the respective field names from the taxi data, and also normalize the time so it can be used as a key. "
      ]
    },
    {
      "cell_type": "code",
      "execution_count": 8,
      "outputs": [],
      "metadata": {},
      "source": [
        "val hol_df_clean = (\n",
        "                hol_df.withColumnRenamed(\"countryRegionCode\",\"country_code\")\n",
        "                .withColumn(\"datetime\",to_date(col(\"date\")))\n",
        "                )\n",
        "\n",
        "hol_df_clean.show(5, truncate = false)"
      ]
    },
    {
      "cell_type": "markdown",
      "metadata": {},
      "source": [
        "Next, join the holiday data with the taxi data by performing a left-join. This will preserve all records from taxi data, but add in holiday data where it exists for the corresponding datetime and country_code, which in this case is always \"US\". Preview the data to verify that they were merged correctly."
      ]
    },
    {
      "cell_type": "code",
      "execution_count": 9,
      "outputs": [],
      "metadata": {},
      "source": [
        "// enrich taxi data with holiday data\n",
        "val nyc_taxi_holiday_df = nyc_tlc_df_clean.join(hol_df_clean, Seq(\"datetime\", \"country_code\") , \"left\")\n",
        "\n",
        "nyc_taxi_holiday_df.show(5,truncate = false)"
      ]
    },
    {
      "cell_type": "code",
      "execution_count": 10,
      "outputs": [],
      "metadata": {},
      "source": [
        "// Create a temp table and filter out non empty holiday rows\n",
        "\n",
        "nyc_taxi_holiday_df.createOrReplaceTempView(\"nyc_taxi_holiday_df\")\n",
        "val result = spark.sql(\"SELECT * from nyc_taxi_holiday_df WHERE holidayName is NOT NULL \")\n",
        "result.show(5, truncate = false)"
      ]
    },
    {
      "cell_type": "markdown",
      "metadata": {},
      "source": [
        "## Enrich with weather data¶\n",
        "\n",
        "Now we append NOAA surface weather data to the taxi and holiday data. Use a similar approach to fetch the [NOAA weather history data](https://azure.microsoft.com/en-us/services/open-datasets/catalog/noaa-integrated-surface-data/) from Azure Open Datasets. "
      ]
    },
    {
      "cell_type": "code",
      "execution_count": 11,
      "outputs": [],
      "metadata": {},
      "source": [
        "// Load weather data from azure open dataset\n",
        "val weather_blob_container_name = \"isdweatherdatacontainer\"\n",
        "val weather_blob_relative_path = \"ISDWeather/\"\n",
        "val weather_blob_sas_token = \"\"\n",
        "\n",
        "val weather_wasbs_path = f\"wasbs://$weather_blob_container_name@$blob_account_name.blob.core.windows.net/$weather_blob_relative_path\"\n",
        "spark.conf.set(f\"fs.azure.sas.$weather_blob_container_name.$blob_account_name.blob.core.windows.net\",hol_blob_sas_token)\n",
        "\n",
        "val isd = spark.read.parquet(weather_wasbs_path)\n",
        "\n",
        "// Display 5 rows\n",
        "// isd.show(5, truncate = false)"
      ]
    },
    {
      "cell_type": "code",
      "execution_count": 12,
      "outputs": [],
      "metadata": {},
      "source": [
        "// Filter data by time range\n",
        "val isd_df = isd.filter((isd(\"datetime\") >= start_date) && (isd(\"datetime\") <= end_date))\n",
        "\n",
        "// Display 5 rows\n",
        "isd_df.show(5, truncate = false)"
      ]
    },
    {
      "cell_type": "code",
      "execution_count": null,
      "outputs": [],
      "metadata": {},
      "source": [
        "// Filter out weather info for new york city, remove the recording with null temperature \n",
        "\n",
        "val weather_df = (\n",
        "                isd_df.filter(isd_df(\"latitude\") >= \"40.53\")\n",
        "                        .filter(isd_df(\"latitude\") <= \"40.88\")\n",
        "                        .filter(isd_df(\"longitude\") >= \"-74.09\")\n",
        "                        .filter(isd_df(\"longitude\") <= \"-73.72\")\n",
        "                        .filter(isd_df(\"temperature\").isNotNull)\n",
        "                        .withColumnRenamed(\"datetime\",\"datetime_full\")\n",
        "                        )"
      ]
    },
    {
      "cell_type": "code",
      "execution_count": null,
      "outputs": [],
      "metadata": {},
      "source": [
        "// Remove unused columns\n",
        "val weather_df_clean = weather_df.drop(\"usaf\", \"wban\", \"longitude\", \"latitude\").withColumn(\"datetime\", to_date(col(\"datetime_full\")))\n",
        "\n",
        "//weather_df_clean.show(5, truncate = false)"
      ]
    },
    {
      "cell_type": "markdown",
      "metadata": {},
      "source": [
        "Next group the weather data so that you have daily aggregated weather values. \n",
        ""
      ]
    },
    {
      "cell_type": "code",
      "execution_count": null,
      "outputs": [],
      "metadata": {},
      "source": [
        "// Enrich weather data with aggregation statistics\n",
        "\n",
        "val weather_df_grouped = (\n",
        "                        weather_df_clean.groupBy('datetime).\n",
        "                        agg(\n",
        "                            mean('snowDepth) as \"avg_snowDepth\",\n",
        "                            max('precipTime) as \"max_precipTime\",\n",
        "                            mean('temperature) as \"avg_temperature\",\n",
        "                            max('precipDepth) as \"max_precipDepth\"\n",
        "                            )\n",
        "                        )\n",
        "\n",
        "weather_df_grouped.show(5, truncate = false)"
      ]
    },
    {
      "cell_type": "markdown",
      "metadata": {},
      "source": [
        "Merge the taxi and holiday data you prepared with the new weather data. This time you only need the datetime key, and again perform a left-join of the data. Run the describe() function on the new dataframe to see summary statistics for each field."
      ]
    },
    {
      "cell_type": "code",
      "execution_count": null,
      "outputs": [],
      "metadata": {},
      "source": [
        "// Enrich taxi data with weather\n",
        "val nyc_taxi_holiday_weather_df = nyc_taxi_holiday_df.join(weather_df_grouped, Seq(\"datetime\") ,\"left\")\n",
        "nyc_taxi_holiday_weather_df.cache()"
      ]
    },
    {
      "cell_type": "code",
      "execution_count": null,
      "outputs": [],
      "metadata": {},
      "source": [
        "nyc_taxi_holiday_weather_df.show(5,truncate = false)"
      ]
    },
    {
      "cell_type": "code",
      "execution_count": null,
      "outputs": [],
      "metadata": {},
      "source": [
        "// Run the describe() function on the new dataframe to see summary statistics for each field.\n",
        "display(nyc_taxi_holiday_weather_df.describe())"
      ]
    },
    {
      "cell_type": "markdown",
      "metadata": {},
      "source": [
        "The summary statistics shows that the totalAmount field has negative values, which don't make sense in the context.\n",
        "\n",
        ""
      ]
    },
    {
      "cell_type": "code",
      "execution_count": null,
      "outputs": [],
      "metadata": {},
      "source": [
        "// Remove invalid rows with less than 0 taxi fare or tip\n",
        "val final_df = (\n",
        "            nyc_taxi_holiday_weather_df.\n",
        "            filter(nyc_taxi_holiday_weather_df(\"tipAmount\") > 0).\n",
        "            filter(nyc_taxi_holiday_weather_df(\"totalAmount\") > 0)\n",
        "            )"
      ]
    },
    {
      "cell_type": "markdown",
      "metadata": {},
      "source": [
        "## Cleaning up the existing Database\n",
        "\n",
        "First we need to drop the tables since Spark requires that a database is empty before we can drop the Database.\n",
        "\n",
        "Then we recreate the database and set the default database context to it."
      ]
    },
    {
      "cell_type": "code",
      "execution_count": null,
      "outputs": [],
      "metadata": {},
      "source": [
        "spark.sql(\"DROP TABLE IF EXISTS NYCTaxi.nyc_taxi_holiday_weather\"); "
      ]
    },
    {
      "cell_type": "code",
      "execution_count": null,
      "outputs": [],
      "metadata": {},
      "source": [
        "spark.sql(\"DROP DATABASE IF EXISTS NYCTaxi\"); \n",
        "spark.sql(\"CREATE DATABASE NYCTaxi\"); \n",
        "spark.sql(\"USE NYCTaxi\");"
      ]
    },
    {
      "cell_type": "markdown",
      "metadata": {},
      "source": [
        "## Creating a new table\n",
        "We create a nyc_taxi_holiday_weather table from the nyc_taxi_holiday_weather dataframe.\n",
        ""
      ]
    },
    {
      "cell_type": "code",
      "execution_count": null,
      "outputs": [],
      "metadata": {},
      "source": [
        "final_df.write.saveAsTable(\"nyc_taxi_holiday_weather\");\n",
        "val final_results = spark.sql(\"SELECT COUNT(*) FROM nyc_taxi_holiday_weather\");\n",
        "final_results.show(5, truncate = false)"
      ]
    }
  ],
  "metadata": {
    "description": null,
    "save_output": true,
    "kernelspec": {
      "name": "synapse_pyspark",
      "display_name": "Synapse PySpark"
    },
    "language_info": {
      "name": "scala"
    }
  }
}